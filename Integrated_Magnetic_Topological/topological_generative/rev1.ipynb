{
 "cells": [
  {
   "cell_type": "code",
   "execution_count": 1,
   "metadata": {},
   "outputs": [
    {
     "ename": "ModuleNotFoundError",
     "evalue": "No module named 'generative_nmti'",
     "output_type": "error",
     "traceback": [
      "\u001b[31m---------------------------------------------------------------------------\u001b[39m",
      "\u001b[31mModuleNotFoundError\u001b[39m                       Traceback (most recent call last)",
      "\u001b[36mCell\u001b[39m\u001b[36m \u001b[39m\u001b[32mIn[1]\u001b[39m\u001b[32m, line 4\u001b[39m\n\u001b[32m      2\u001b[39m \u001b[38;5;28;01mimport\u001b[39;00m\u001b[38;5;250m \u001b[39m\u001b[34;01mtorch\u001b[39;00m\u001b[34;01m.\u001b[39;00m\u001b[34;01mnn\u001b[39;00m\u001b[38;5;250m \u001b[39m\u001b[38;5;28;01mas\u001b[39;00m\u001b[38;5;250m \u001b[39m\u001b[34;01mnn\u001b[39;00m\n\u001b[32m      3\u001b[39m \u001b[38;5;28;01mimport\u001b[39;00m\u001b[38;5;250m \u001b[39m\u001b[34;01mtorch\u001b[39;00m\u001b[34;01m.\u001b[39;00m\u001b[34;01mnn\u001b[39;00m\u001b[34;01m.\u001b[39;00m\u001b[34;01mfunctional\u001b[39;00m\u001b[38;5;250m \u001b[39m\u001b[38;5;28;01mas\u001b[39;00m\u001b[38;5;250m \u001b[39m\u001b[34;01mF\u001b[39;00m\n\u001b[32m----> \u001b[39m\u001b[32m4\u001b[39m \u001b[38;5;28;01mimport\u001b[39;00m\u001b[38;5;250m \u001b[39m\u001b[34;01mgenerative_nmti\u001b[39;00m\u001b[34;01m.\u001b[39;00m\u001b[34;01mcdvae\u001b[39;00m\u001b[38;5;250m \u001b[39m\u001b[38;5;28;01mas\u001b[39;00m\u001b[38;5;250m \u001b[39m\u001b[34;01mcdvae\u001b[39;00m\n\u001b[32m      5\u001b[39m \u001b[38;5;28;01mfrom\u001b[39;00m\u001b[38;5;250m \u001b[39m\u001b[34;01mgenerative_nmti\u001b[39;00m\u001b[34;01m.\u001b[39;00m\u001b[34;01mcdvae\u001b[39;00m\u001b[34;01m.\u001b[39;00m\u001b[34;01mpl_modules\u001b[39;00m\u001b[34;01m.\u001b[39;00m\u001b[34;01mdecoder\u001b[39;00m\u001b[38;5;250m \u001b[39m\u001b[38;5;28;01mimport\u001b[39;00m GemNetTDecoder\n",
      "\u001b[31mModuleNotFoundError\u001b[39m: No module named 'generative_nmti'"
     ]
    }
   ],
   "source": [
    "import torch\n",
    "import torch.nn as nn\n",
    "import torch.nn.functional as F\n",
    "import generative_nmti.cdvae as cdvae\n",
    "from generative_nmti.cdvae.pl_modules.decoder import GemNetTDecoder"
   ]
  },
  {
   "cell_type": "code",
   "execution_count": 10,
   "metadata": {},
   "outputs": [
    {
     "name": "stdout",
     "output_type": "stream",
     "text": [
      "2.1.2\n",
      "0.6.18\n"
     ]
    }
   ],
   "source": [
    "import torch_scatter\n",
    "print(torch_scatter.__version__)\n",
    "import torch_sparse\n",
    "print(torch_sparse.__version__)"
   ]
  },
  {
   "cell_type": "code",
   "execution_count": null,
   "metadata": {},
   "outputs": [],
   "source": [
    "class LatentPolicyNet(nn.Module):\n",
    "    def __init__(self, latent_dim):\n",
    "        super().__init__()\n",
    "        self.fc = nn.Sequential(\n",
    "            nn.Linear(latent_dim, 256),\n",
    "            nn.ReLU(),\n",
    "            nn.Linear(256, latent_dim)\n",
    "        )\n",
    "        self.log_std = nn.Parameter(torch.zeros(latent_dim))  # Learnable log std\n",
    "\n",
    "    def forward(self, z_noise):\n",
    "        mu = self.fc(z_noise)\n",
    "        std = torch.exp(self.log_std)\n",
    "        dist = torch.distributions.Normal(mu, std)\n",
    "        z_sampled = dist.rsample()  # Reparameterized sampling\n",
    "        return z_sampled, dist.log_prob(z_sampled).sum(dim=-1)"
   ]
  },
  {
   "cell_type": "code",
   "execution_count": null,
   "metadata": {},
   "outputs": [],
   "source": [
    "def reinforce_update(policy_net, optimizer, rewards, log_probs):\n",
    "    rewards = torch.tensor(rewards)\n",
    "    rewards = (rewards - rewards.mean()) / (rewards.std() + 1e-8)  # Normalize\n",
    "    loss = -(log_probs * rewards).mean()\n",
    "\n",
    "    optimizer.zero_grad()\n",
    "    loss.backward()\n",
    "    optimizer.step()\n",
    "    return loss.item()"
   ]
  },
  {
   "cell_type": "code",
   "execution_count": null,
   "metadata": {},
   "outputs": [],
   "source": [
    "def estimate_formation_energy(structure):\n",
    "    # Placeholder for formation energy estimation\n",
    "    return torch.randn(1).item()  # Replace with actual implementation\n",
    "\n",
    "def predict_magnetic_ordering(structure):\n",
    "    # Placeholder for magnetic ordering prediction\n",
    "    return torch.sigmoid(torch.randn(1)).item()  # Replace with actual implementation\n",
    "\n",
    "decoder = GemNetTDecoder(latent_dim=latent_dim, n_elements=10)  # Example: Adjust n_elements\n",
    "\n",
    "def decoder(z):\n",
    "    # Use the CDVAE decoder to generate structures\n",
    "    generated_structure = decoder(z) # Assuming decoder takes a latent vector z\n",
    "    return [generated_structure for _ in range(batch_size)]\n",
    "\n",
    "def reward_function(structure):\n",
    "    # Custom logic based on simulated structure\n",
    "    energy = estimate_formation_energy(structure)\n",
    "    magnetic_score = predict_magnetic_ordering(structure)\n",
    "\n",
    "    reward = -energy + 2.0 * magnetic_score  # Tunable trade-off\n",
    "    return reward"
   ]
  },
  {
   "cell_type": "code",
   "execution_count": null,
   "metadata": {},
   "outputs": [],
   "source": [
    "# Hyperparameters\n",
    "num_steps = 100\n",
    "batch_size = 32\n",
    "latent_dim = 16\n",
    "learning_rate = 1e-3\n",
    "\n",
    "# Initialize policy network and optimizer\n",
    "policy_net = LatentPolicyNet(latent_dim)\n",
    "optimizer = torch.optim.Adam(policy_net.parameters(), lr=learning_rate)\n",
    "\n",
    "for step in range(num_steps):\n",
    "    z_noise = torch.randn(batch_size, latent_dim)\n",
    "    z_sampled, log_probs = policy_net(z_noise)\n",
    "\n",
    "    # Decode structure from CDVAE decoder\n",
    "    generated_structures = decoder(z_sampled)\n",
    "\n",
    "    # Score each generated structure\n",
    "    rewards = []\n",
    "    for structure in generated_structures:\n",
    "        reward = reward_function(structure)\n",
    "        rewards.append(reward)\n",
    "\n",
    "    # Update policy using REINFORCE\n",
    "    loss = reinforce_update(policy_net, optimizer, rewards, log_probs)\n",
    "\n",
    "    print(f\"Step {step} | Avg Reward: {sum(rewards)/len(rewards):.3f} | Policy Loss: {loss:.4f}\")"
   ]
  }
 ],
 "metadata": {
  "kernelspec": {
   "display_name": "Python 3",
   "language": "python",
   "name": "python3"
  },
  "language_info": {
   "codemirror_mode": {
    "name": "ipython",
    "version": 3
   },
   "file_extension": ".py",
   "mimetype": "text/x-python",
   "name": "python",
   "nbconvert_exporter": "python",
   "pygments_lexer": "ipython3",
   "version": "3.12.4"
  }
 },
 "nbformat": 4,
 "nbformat_minor": 2
}
