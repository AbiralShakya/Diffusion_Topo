{
 "cells": [
  {
   "cell_type": "code",
   "execution_count": 3,
   "metadata": {},
   "outputs": [
    {
     "name": "stderr",
     "output_type": "stream",
     "text": [
      "/Users/abiralshakya/Documents/Research/Topological_Insulators_OnGithub/TIvenv/lib/python3.12/site-packages/tqdm/auto.py:21: TqdmWarning: IProgress not found. Please update jupyter and ipywidgets. See https://ipywidgets.readthedocs.io/en/stable/user_install.html\n",
      "  from .autonotebook import tqdm as notebook_tqdm\n"
     ]
    }
   ],
   "source": [
    "# first attempt at multi task learning and integration with topological quantum chemistry database\n",
    "import e3nn.util\n",
    "import torch\n",
    "import torch.nn as nn\n",
    "import torch.optim as optim\n",
    "import torch_geometric\n",
    "import torch_scatter\n",
    "\n",
    "import e3nn\n",
    "from e3nn import o3\n",
    "#from e3nn.util.datatypes import DataPeriodicNeighbors\n",
    "#from e3nn.nn._gate import GatedConvParityNetwork\n",
    "#from e3nn.math._linalg import Kernel\n",
    "\n",
    "import pymatgen as mg\n",
    "import pymatgen.io\n",
    "from pymatgen.core.structure import Structure\n",
    "import pymatgen.analysis.magnetism.analyzer as pg\n",
    "from mp_api.client import MPRester\n",
    "import numpy as np\n",
    "import pickle\n",
    "from mendeleev import element\n",
    "import matplotlib.pyplot as plt\n",
    "\n",
    "from sklearn.metrics import average_precision_score\n",
    "from sklearn.metrics import classification_report\n",
    "from sklearn.metrics import f1_score\n",
    "from sklearn.metrics import accuracy_score\n",
    "\n",
    "import io\n",
    "import random\n",
    "import math\n",
    "import sys\n",
    "import time, os\n",
    "import datetime\n",
    "from pathlib import Path\n",
    "from dotenv import load_dotenv\n"
   ]
  },
  {
   "cell_type": "code",
   "execution_count": 4,
   "metadata": {},
   "outputs": [],
   "source": [
    "load_dotenv()\n",
    "load_dotenv(Path(\"/Users/abiralshakya/Documents/Research/Topological_Insulators_OnGithub/generative_nmti/Integrated_Magnetic_Topological/matprojectapi.env\"))\n",
    "api_key = os.getenv(\"MP_API_KEY\")"
   ]
  },
  {
   "cell_type": "code",
   "execution_count": 10,
   "metadata": {},
   "outputs": [
    {
     "name": "stdout",
     "output_type": "stream",
     "text": [
      "<class 'list'>\n"
     ]
    }
   ],
   "source": [
    "# %% Process Materials Project Data\n",
    "order_list_mp = []\n",
    "structures_list_mp = []\n",
    "formula_list_mp = []\n",
    "sites_list = []\n",
    "id_list_mp = []\n",
    "y_values_mp = []\n",
    "order_encode = {\"NM\": 0, \"AFM\": 1, \"FM\": 2, \"FiM\": 2}\n",
    "topo_encode = {False: 0, True: 1}\n",
    "\n",
    "\n",
    "mp_structures_dict = torch.load('/Users/abiralshakya/Documents/Research/Topological_Insulators_OnGithub/generative_nmti/Integrated_Magnetic_Topological/magnetic_order/preload_data/mp_structures_2025-04-07_12-52.pt', \n",
    "                                weights_only= False)\n",
    "structures = mp_structures_dict['structures']\n",
    "materials = mp_structures_dict['materials_id']\n",
    "formulas = mp_structures_dict['formulas']\n",
    "orders = mp_structures_dict['order']\n",
    "nsites = mp_structures_dict['nsites']\n",
    "\n",
    "structures_copy = structures.copy()\n",
    "# for struc in structures_copy:\n",
    "#     print(struc)\n",
    "#     # if len(struc[\"structur\"]) > 250:\n",
    "#     #     structures.remove(struc)\n",
    "#     #     print(\"MP Structure Deleted\")\n",
    "\n",
    "print(type(structures))\n",
    "\n",
    "# If it's a dictionary:\n",
    "if isinstance(structures, dict):\n",
    "    print(\"Keys:\", list(structures.keys())[:5])\n",
    "    print(\"Sample value type:\", type(list(structures.values())[0]))\n",
    "\n",
    "# If it's something else (like a pandas DataFrame), this will help too:\n",
    "try:\n",
    "    print(structures.head())\n",
    "except:\n",
    "    pass"
   ]
  },
  {
   "cell_type": "code",
   "execution_count": 6,
   "metadata": {},
   "outputs": [],
   "source": [
    "order_list = []\n",
    "for i in range(len(structures)):\n",
    "    order = pg.CollinearMagneticStructureAnalyzer(structures[i])\n",
    "    order_list.append(order.ordering.name)\n",
    "id_NM = []\n",
    "id_FM = []\n",
    "id_AFM = []\n",
    "for i in range(len(structures)):\n",
    "    if order_list[i] == 'NM':\n",
    "        id_NM.append(i)\n",
    "    if order_list[i] == 'AFM':\n",
    "        id_AFM.append(i)\n",
    "    if order_list[i] == 'FM' or order_list[i] == 'FiM':\n",
    "        id_FM.append(i)\n",
    "np.random.shuffle(id_FM)\n",
    "np.random.shuffle(id_NM)\n",
    "np.random.shuffle(id_AFM)\n",
    "id_AFM, id_AFM_to_delete = np.split(id_AFM, [int(len(id_AFM))])\n",
    "id_NM, id_NM_to_delete = np.split(id_NM, [int(1.2 * len(id_AFM))])\n",
    "id_FM, id_FM_to_delete = np.split(id_FM, [int(1.2 * len(id_AFM))])\n",
    "\n",
    "structures_mp = [structures[i] for i in id_NM] + [structures[j] for j in id_FM] + [structures[k] for k in id_AFM]\n",
    "np.random.shuffle(structures_mp)\n"
   ]
  },
  {
   "cell_type": "code",
   "execution_count": 9,
   "metadata": {},
   "outputs": [],
   "source": [
    "for structure in structures_mp:\n",
    "    analyzed_structure = pg.CollinearMagneticStructureAnalyzer(structure)\n",
    "    order_list_mp.append(analyzed_structure.ordering)\n",
    "    structures_list_mp.append(structure)\n",
    "    # formula_list_mp.append(structure.)\n",
    "    # formula_list_mp.append(structure)\n",
    "    # id_list_mp.append(structure.material_id)\n",
    "    # sites_list.append(structure.nsites)\n",
    "\n",
    "\n",
    "\n",
    "def get_topological_insulator_label(material_id):\n",
    "    with MPRester(api_key = api_key) as mpr:\n",
    "        try:\n",
    "            data = mpr.get_data(material_id, fields=[\"is_topological_insulator\"])\n",
    "            return data[0][\"is_topological_insulator\"]\n",
    "        except Exception as e:\n",
    "            print(f\"Error getting topological insulator label for {material_id}: {e}\")\n",
    "            return False\n"
   ]
  },
  {
   "cell_type": "code",
   "execution_count": 11,
   "metadata": {},
   "outputs": [],
   "source": [
    "import numpy as np\n",
    "import torch\n",
    "import pymatgen as pg\n",
    "from pymatgen.ext.matproj import MPRester\n",
    "from pymatgen.analysis.magnetism import CollinearMagneticStructureAnalyzer\n",
    "\n",
    "order_list_mp = []\n",
    "structures_list_mp = []\n",
    "formula_list_mp = []\n",
    "sites_list = []\n",
    "id_list_mp = []\n",
    "y_values_mp = []\n",
    "\n",
    "order_encode = {\"NM\": 0, \"AFM\": 1, \"FM\": 2, \"FiM\": 2}\n",
    "topo_encode = {False: 0, True: 1}\n",
    "\n",
    "# Load data\n",
    "mp_structures_dict = torch.load('/Users/abiralshakya/Documents/Research/Topological_Insulators_OnGithub/generative_nmti/Integrated_Magnetic_Topological/magnetic_order/preload_data/mp_structures_2025-04-07_12-52.pt', \n",
    "                                weights_only=False)\n",
    "\n",
    "structures = mp_structures_dict['structures']\n",
    "materials = mp_structures_dict['materials_id']\n",
    "formulas = mp_structures_dict['formulas']\n",
    "orders = mp_structures_dict['order']\n",
    "nsites = mp_structures_dict['nsites']\n"
   ]
  },
  {
   "cell_type": "code",
   "execution_count": 12,
   "metadata": {},
   "outputs": [],
   "source": [
    "order_list = []\n",
    "\n",
    "for struct in structures:\n",
    "    analyzer = CollinearMagneticStructureAnalyzer(struct)\n",
    "    order_list.append(analyzer.ordering.name)"
   ]
  },
  {
   "cell_type": "code",
   "execution_count": 13,
   "metadata": {},
   "outputs": [],
   "source": [
    "id_NM = [i for i, order in enumerate(order_list) if order == 'NM']\n",
    "id_AFM = [i for i, order in enumerate(order_list) if order == 'AFM']\n",
    "id_FM = [i for i, order in enumerate(order_list) if order in ['FM', 'FiM']]\n",
    "\n",
    "# Shuffle\n",
    "np.random.shuffle(id_NM)\n",
    "np.random.shuffle(id_FM)\n",
    "np.random.shuffle(id_AFM)\n",
    "\n",
    "# Balance dataset (keeping AFM as reference size)\n",
    "id_AFM, id_AFM_to_delete = np.split(id_AFM, [int(len(id_AFM))])\n",
    "id_NM, id_NM_to_delete = np.split(id_NM, [int(1.2 * len(id_AFM))])\n",
    "id_FM, id_FM_to_delete = np.split(id_FM, [int(1.2 * len(id_AFM))])\n",
    "\n",
    "# Final index list\n",
    "selected_ids = np.concatenate((id_NM, id_FM, id_AFM))\n",
    "np.random.shuffle(selected_ids)"
   ]
  },
  {
   "cell_type": "code",
   "execution_count": 14,
   "metadata": {},
   "outputs": [],
   "source": [
    "for idx in selected_ids:\n",
    "    structure = structures[idx]\n",
    "    material_id = materials[idx]\n",
    "    formula = formulas[idx]\n",
    "    nsite = nsites[idx]\n",
    "\n",
    "    analyzer = CollinearMagneticStructureAnalyzer(structure)\n",
    "    ordering = analyzer.ordering\n",
    "\n",
    "    structures_list_mp.append(structure)\n",
    "    id_list_mp.append(material_id)\n",
    "    formula_list_mp.append(formula)\n",
    "    sites_list.append(nsite)\n",
    "    order_list_mp.append(ordering)\n"
   ]
  },
  {
   "cell_type": "code",
   "execution_count": 19,
   "metadata": {},
   "outputs": [
    {
     "name": "stderr",
     "output_type": "stream",
     "text": [
      "Retrieving SummaryDoc documents: 100%|██████████| 1/1 [00:00<00:00, 10837.99it/s]\n"
     ]
    },
    {
     "name": "stdout",
     "output_type": "stream",
     "text": [
      "No topological info for mp-1055932\n"
     ]
    },
    {
     "name": "stderr",
     "output_type": "stream",
     "text": [
      "Retrieving SummaryDoc documents: 100%|██████████| 1/1 [00:00<00:00, 27776.85it/s]\n"
     ]
    },
    {
     "name": "stdout",
     "output_type": "stream",
     "text": [
      "No topological info for mp-90\n"
     ]
    },
    {
     "name": "stderr",
     "output_type": "stream",
     "text": [
      "Retrieving SummaryDoc documents: 100%|██████████| 1/1 [00:00<00:00, 28532.68it/s]\n"
     ]
    },
    {
     "name": "stdout",
     "output_type": "stream",
     "text": [
      "No topological info for mp-11421\n"
     ]
    },
    {
     "name": "stderr",
     "output_type": "stream",
     "text": [
      "Retrieving SummaryDoc documents: 100%|██████████| 1/1 [00:00<00:00, 33288.13it/s]\n"
     ]
    },
    {
     "name": "stdout",
     "output_type": "stream",
     "text": [
      "No topological info for mp-11343\n"
     ]
    },
    {
     "name": "stderr",
     "output_type": "stream",
     "text": [
      "Retrieving SummaryDoc documents: 100%|██████████| 1/1 [00:00<00:00, 20763.88it/s]\n"
     ]
    },
    {
     "name": "stdout",
     "output_type": "stream",
     "text": [
      "No topological info for mp-20071\n"
     ]
    },
    {
     "name": "stderr",
     "output_type": "stream",
     "text": [
      "Retrieving SummaryDoc documents: 100%|██████████| 1/1 [00:00<00:00, 27594.11it/s]\n"
     ]
    },
    {
     "name": "stdout",
     "output_type": "stream",
     "text": [
      "No topological info for mp-74\n"
     ]
    },
    {
     "name": "stderr",
     "output_type": "stream",
     "text": [
      "Retrieving SummaryDoc documents: 100%|██████████| 1/1 [00:00<00:00, 22192.08it/s]\n"
     ]
    },
    {
     "name": "stdout",
     "output_type": "stream",
     "text": [
      "No topological info for mp-1184067\n"
     ]
    },
    {
     "name": "stderr",
     "output_type": "stream",
     "text": [
      "Retrieving SummaryDoc documents: 100%|██████████| 1/1 [00:00<00:00, 16710.37it/s]\n"
     ]
    },
    {
     "name": "stdout",
     "output_type": "stream",
     "text": [
      "No topological info for mp-1193227\n"
     ]
    },
    {
     "name": "stderr",
     "output_type": "stream",
     "text": [
      "Retrieving SummaryDoc documents: 100%|██████████| 1/1 [00:00<00:00, 7037.42it/s]"
     ]
    },
    {
     "name": "stdout",
     "output_type": "stream",
     "text": [
      "No topological info for mp-1184113\n"
     ]
    },
    {
     "name": "stderr",
     "output_type": "stream",
     "text": [
      "\n"
     ]
    }
   ],
   "source": [
    "topo_encode = {False: 0, True: 1}\n",
    "topo_labels = []\n",
    "\n",
    "from mp_api.client import MPRester\n",
    "m = MPRester(api_key=api_key)\n",
    "\n",
    "for material_id in id_list_mp:\n",
    "    try:\n",
    "        result = m.materials.summary.search(material_ids=[material_id])\n",
    "        if result and hasattr(result[0], \"is_topological\"):\n",
    "            label = result[0].is_topological\n",
    "            topo_labels.append(topo_encode[label])\n",
    "        else:\n",
    "            print(f\"No topological info for {material_id}\")\n",
    "            topo_labels.append(topo_encode[False])\n",
    "    except Exception as e:\n",
    "        print(f\"Error retrieving TI label for {material_id}: {e}\")\n",
    "        topo_labels.append(topo_encode[False])\n"
   ]
  },
  {
   "cell_type": "code",
   "execution_count": 16,
   "metadata": {},
   "outputs": [
    {
     "name": "stdout",
     "output_type": "stream",
     "text": [
      "Error getting topological insulator label for mp-1055932: 'MPRester' object has no attribute 'get_data'\n",
      "Error getting topological insulator label for mp-90: 'MPRester' object has no attribute 'get_data'\n",
      "Error getting topological insulator label for mp-11421: 'MPRester' object has no attribute 'get_data'\n",
      "Error getting topological insulator label for mp-11343: 'MPRester' object has no attribute 'get_data'\n",
      "Error getting topological insulator label for mp-20071: 'MPRester' object has no attribute 'get_data'\n",
      "Error getting topological insulator label for mp-74: 'MPRester' object has no attribute 'get_data'\n",
      "Error getting topological insulator label for mp-1184067: 'MPRester' object has no attribute 'get_data'\n",
      "Error getting topological insulator label for mp-1193227: 'MPRester' object has no attribute 'get_data'\n",
      "Error getting topological insulator label for mp-1184113: 'MPRester' object has no attribute 'get_data'\n"
     ]
    }
   ],
   "source": [
    "for material_id in id_list_mp:\n",
    "    label = get_topological_insulator_label(material_id, api_key)\n",
    "    y_values_mp.append(topo_encode[label])\n"
   ]
  },
  {
   "cell_type": "code",
   "execution_count": null,
   "metadata": {},
   "outputs": [],
   "source": []
  }
 ],
 "metadata": {
  "kernelspec": {
   "display_name": "TIvenv",
   "language": "python",
   "name": "python3"
  },
  "language_info": {
   "codemirror_mode": {
    "name": "ipython",
    "version": 3
   },
   "file_extension": ".py",
   "mimetype": "text/x-python",
   "name": "python",
   "nbconvert_exporter": "python",
   "pygments_lexer": "ipython3",
   "version": "3.12.4"
  }
 },
 "nbformat": 4,
 "nbformat_minor": 2
}
