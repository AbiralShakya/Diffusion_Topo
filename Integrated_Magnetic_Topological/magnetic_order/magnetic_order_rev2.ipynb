{
 "cells": [
  {
   "cell_type": "code",
   "execution_count": 40,
   "metadata": {},
   "outputs": [],
   "source": [
    "# first attempt at multi task learning and integration with topological quantum chemistry database\n",
    "import e3nn.util\n",
    "import torch\n",
    "import torch.nn as nn\n",
    "import torch.optim as optim\n",
    "import torch_geometric\n",
    "import torch_scatter\n",
    "\n",
    "import e3nn\n",
    "from e3nn import o3\n",
    "#from e3nn.util.datatypes import DataPeriodicNeighbors\n",
    "#from e3nn.nn._gate import GatedConvParityNetwork\n",
    "#from e3nn.math._linalg import Kernel\n",
    "\n",
    "import pymatgen as mg\n",
    "import pymatgen.io\n",
    "from pymatgen.core.structure import Structure\n",
    "import pymatgen.analysis.magnetism.analyzer as pg\n",
    "from mp_api.client import MPRester\n",
    "import numpy as np\n",
    "import pickle\n",
    "from mendeleev import element\n",
    "import matplotlib.pyplot as plt\n",
    "\n",
    "from sklearn.metrics import average_precision_score\n",
    "from sklearn.metrics import classification_report\n",
    "from sklearn.metrics import f1_score\n",
    "from sklearn.metrics import accuracy_score\n",
    "\n",
    "import io\n",
    "import random\n",
    "import math\n",
    "import sys\n",
    "import time, os\n",
    "import datetime\n",
    "from pathlib import Path\n",
    "from dotenv import load_dotenv\n"
   ]
  },
  {
   "cell_type": "code",
   "execution_count": 41,
   "metadata": {},
   "outputs": [],
   "source": [
    "load_dotenv()\n",
    "load_dotenv(Path(\"/Users/abiralshakya/Documents/Research/Topological_Insulators_OnGithub/generative_nmti/Integrated_Magnetic_Topological/matprojectapi.env\"))\n",
    "api_key = os.getenv(\"MP_API_KEY\")"
   ]
  },
  {
   "cell_type": "code",
   "execution_count": 42,
   "metadata": {},
   "outputs": [
    {
     "name": "stdout",
     "output_type": "stream",
     "text": [
      "<class 'list'>\n"
     ]
    }
   ],
   "source": [
    "# %% Process Materials Project Data\n",
    "order_list_mp = []\n",
    "structures_list_mp = []\n",
    "formula_list_mp = []\n",
    "sites_list = []\n",
    "id_list_mp = []\n",
    "y_values_mp = []\n",
    "order_encode = {\"NM\": 0, \"AFM\": 1, \"FM\": 2, \"FiM\": 2}\n",
    "topo_encode = {False: 0, True: 1}\n",
    "\n",
    "\n",
    "mp_structures_dict = torch.load('/Users/abiralshakya/Documents/Research/Topological_Insulators_OnGithub/generative_nmti/Integrated_Magnetic_Topological/magnetic_order/preload_data/mp_structures_2025-04-07_11-39.pt', \n",
    "                                weights_only= False)\n",
    "structures = mp_structures_dict['structures']\n",
    "\n",
    "structures_copy = structures.copy()\n",
    "# for struc in structures_copy:\n",
    "#     print(struc)\n",
    "#     # if len(struc[\"structur\"]) > 250:\n",
    "#     #     structures.remove(struc)\n",
    "#     #     print(\"MP Structure Deleted\")\n",
    "\n",
    "print(type(structures))\n",
    "\n",
    "# If it's a dictionary:\n",
    "if isinstance(structures, dict):\n",
    "    print(\"Keys:\", list(structures.keys())[:5])\n",
    "    print(\"Sample value type:\", type(list(structures.values())[0]))\n",
    "\n",
    "# If it's something else (like a pandas DataFrame), this will help too:\n",
    "try:\n",
    "    print(structures.head())\n",
    "except:\n",
    "    pass"
   ]
  },
  {
   "cell_type": "code",
   "execution_count": 44,
   "metadata": {},
   "outputs": [],
   "source": [
    "order_list = []\n",
    "for i in range(len(structures)):\n",
    "    order = pg.CollinearMagneticStructureAnalyzer(structures[i])\n",
    "    order_list.append(order.ordering.name)\n",
    "id_NM = []\n",
    "id_FM = []\n",
    "id_AFM = []\n",
    "for i in range(len(structures)):\n",
    "    if order_list[i] == 'NM':\n",
    "        id_NM.append(i)\n",
    "    if order_list[i] == 'AFM':\n",
    "        id_AFM.append(i)\n",
    "    if order_list[i] == 'FM' or order_list[i] == 'FiM':\n",
    "        id_FM.append(i)\n",
    "np.random.shuffle(id_FM)\n",
    "np.random.shuffle(id_NM)\n",
    "np.random.shuffle(id_AFM)\n",
    "id_AFM, id_AFM_to_delete = np.split(id_AFM, [int(len(id_AFM))])\n",
    "id_NM, id_NM_to_delete = np.split(id_NM, [int(1.2 * len(id_AFM))])\n",
    "id_FM, id_FM_to_delete = np.split(id_FM, [int(1.2 * len(id_AFM))])\n",
    "\n",
    "structures_mp = [structures[i] for i in id_NM] + [structures[j] for j in id_FM] + [structures[k] for k in id_AFM]\n",
    "np.random.shuffle(structures_mp)\n"
   ]
  },
  {
   "cell_type": "code",
   "execution_count": 51,
   "metadata": {},
   "outputs": [
    {
     "ename": "AttributeError",
     "evalue": "'Structure' object has no attribute 'material_id'",
     "output_type": "error",
     "traceback": [
      "\u001b[31m---------------------------------------------------------------------------\u001b[39m",
      "\u001b[31mAttributeError\u001b[39m                            Traceback (most recent call last)",
      "\u001b[36mCell\u001b[39m\u001b[36m \u001b[39m\u001b[32mIn[51]\u001b[39m\u001b[32m, line 6\u001b[39m\n\u001b[32m      4\u001b[39m     structures_list_mp.append(structure)\n\u001b[32m      5\u001b[39m     formula_list_mp.append(structure.formula)\n\u001b[32m----> \u001b[39m\u001b[32m6\u001b[39m     id_list_mp.append(\u001b[43mstructure\u001b[49m\u001b[43m.\u001b[49m\u001b[43mmaterial_id\u001b[49m)\n\u001b[32m      7\u001b[39m     sites_list.append(structure.nsites)\n\u001b[32m      9\u001b[39m \u001b[38;5;28;01mdef\u001b[39;00m\u001b[38;5;250m \u001b[39m\u001b[34mget_topological_insulator_label\u001b[39m(material_id):\n",
      "\u001b[31mAttributeError\u001b[39m: 'Structure' object has no attribute 'material_id'"
     ]
    }
   ],
   "source": [
    "for structure in structures_mp:\n",
    "    analyzed_structure = pg.CollinearMagneticStructureAnalyzer(structure)\n",
    "    order_list_mp.append(analyzed_structure.ordering)\n",
    "    structures_list_mp.append(structure)\n",
    "    formula_list_mp.append(structure.formula)\n",
    "    id_list_mp.append(structure.material_id)\n",
    "    sites_list.append(structure.nsites)\n",
    "\n",
    "def get_topological_insulator_label(material_id):\n",
    "    with MPRester(api_key = api_key) as mpr:\n",
    "        try:\n",
    "            data = mpr.get_data(material_id, fields=[\"is_topological_insulator\"])\n",
    "            return data[0][\"is_topological_insulator\"]\n",
    "        except Exception as e:\n",
    "            print(f\"Error getting topological insulator label for {material_id}: {e}\")\n",
    "            return False"
   ]
  },
  {
   "cell_type": "code",
   "execution_count": null,
   "metadata": {},
   "outputs": [],
   "source": []
  }
 ],
 "metadata": {
  "kernelspec": {
   "display_name": "TIvenv",
   "language": "python",
   "name": "python3"
  },
  "language_info": {
   "codemirror_mode": {
    "name": "ipython",
    "version": 3
   },
   "file_extension": ".py",
   "mimetype": "text/x-python",
   "name": "python",
   "nbconvert_exporter": "python",
   "pygments_lexer": "ipython3",
   "version": "3.12.4"
  }
 },
 "nbformat": 4,
 "nbformat_minor": 2
}
