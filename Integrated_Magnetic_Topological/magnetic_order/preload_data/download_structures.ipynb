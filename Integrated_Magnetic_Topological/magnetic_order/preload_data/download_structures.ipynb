{
 "cells": [
  {
   "cell_type": "code",
   "execution_count": 12,
   "id": "9211b803",
   "metadata": {
    "kernelspec": {
     "display_name": "Python 3",
     "language": "python",
     "name": "python3"
    },
    "language_info": {
     "codemirror_mode": {
      "name": "ipython",
      "version": 3
     },
     "file_extension": ".py",
     "mimetype": "text/x-python",
     "name": "python",
     "nbconvert_exporter": "python",
     "pygments_lexer": "ipython3",
     "version": "3.9.12"
    }
   },
   "outputs": [
    {
     "name": "stdout",
     "output_type": "stream",
     "text": [
      "Querying elements: Ga, Tm, Y, Dy, Nb, Pu\n",
      "  - Querying for materials with Ga\n"
     ]
    },
    {
     "name": "stderr",
     "output_type": "stream",
     "text": [
      "Retrieving SummaryDoc documents: 100%|██████████| 8/8 [00:00<00:00, 211034.16it/s]\n"
     ]
    },
    {
     "name": "stdout",
     "output_type": "stream",
     "text": [
      "    Found 8 materials\n",
      "  - Querying for materials with Tm\n"
     ]
    },
    {
     "name": "stderr",
     "output_type": "stream",
     "text": [
      "Retrieving SummaryDoc documents: 100%|██████████| 5/5 [00:00<00:00, 100342.20it/s]\n"
     ]
    },
    {
     "name": "stdout",
     "output_type": "stream",
     "text": [
      "    Found 5 materials\n",
      "  - Querying for materials with Y\n"
     ]
    },
    {
     "name": "stderr",
     "output_type": "stream",
     "text": [
      "Retrieving SummaryDoc documents: 100%|██████████| 4/4 [00:00<00:00, 98112.37it/s]\n"
     ]
    },
    {
     "name": "stdout",
     "output_type": "stream",
     "text": [
      "    Found 4 materials\n",
      "  - Querying for materials with Dy\n"
     ]
    },
    {
     "name": "stderr",
     "output_type": "stream",
     "text": [
      "Retrieving SummaryDoc documents: 100%|██████████| 5/5 [00:00<00:00, 124830.48it/s]\n"
     ]
    },
    {
     "name": "stdout",
     "output_type": "stream",
     "text": [
      "    Found 5 materials\n",
      "  - Querying for materials with Nb\n"
     ]
    },
    {
     "name": "stderr",
     "output_type": "stream",
     "text": [
      "Retrieving SummaryDoc documents: 100%|██████████| 6/6 [00:00<00:00, 142987.64it/s]\n"
     ]
    },
    {
     "name": "stdout",
     "output_type": "stream",
     "text": [
      "    Found 6 materials\n",
      "  - Querying for materials with Pu\n"
     ]
    },
    {
     "name": "stderr",
     "output_type": "stream",
     "text": [
      "Retrieving SummaryDoc documents: 100%|██████████| 9/9 [00:00<00:00, 180615.96it/s]\n"
     ]
    },
    {
     "name": "stdout",
     "output_type": "stream",
     "text": [
      "    Found 9 materials\n",
      "Querying elements: Th, Er, U, Cr, Sc, Pr\n",
      "  - Querying for materials with Th\n"
     ]
    },
    {
     "name": "stderr",
     "output_type": "stream",
     "text": [
      "Retrieving SummaryDoc documents: 100%|██████████| 2/2 [00:00<00:00, 55553.70it/s]\n"
     ]
    },
    {
     "name": "stdout",
     "output_type": "stream",
     "text": [
      "    Found 2 materials\n",
      "  - Querying for materials with Er\n"
     ]
    },
    {
     "name": "stderr",
     "output_type": "stream",
     "text": [
      "Retrieving SummaryDoc documents: 100%|██████████| 5/5 [00:00<00:00, 87746.95it/s]\n"
     ]
    },
    {
     "name": "stdout",
     "output_type": "stream",
     "text": [
      "    Found 5 materials\n",
      "  - Querying for materials with U\n"
     ]
    },
    {
     "name": "stderr",
     "output_type": "stream",
     "text": [
      "Retrieving SummaryDoc documents: 100%|██████████| 14/14 [00:00<00:00, 312341.79it/s]\n"
     ]
    },
    {
     "name": "stdout",
     "output_type": "stream",
     "text": [
      "    Found 14 materials\n",
      "  - Querying for materials with Cr\n"
     ]
    },
    {
     "name": "stderr",
     "output_type": "stream",
     "text": [
      "Retrieving SummaryDoc documents: 100%|██████████| 6/6 [00:00<00:00, 99864.38it/s]\n"
     ]
    },
    {
     "name": "stdout",
     "output_type": "stream",
     "text": [
      "    Found 6 materials\n",
      "  - Querying for materials with Sc\n"
     ]
    },
    {
     "name": "stderr",
     "output_type": "stream",
     "text": [
      "Retrieving SummaryDoc documents: 100%|██████████| 11/11 [00:00<00:00, 215595.07it/s]\n"
     ]
    },
    {
     "name": "stdout",
     "output_type": "stream",
     "text": [
      "    Found 11 materials\n",
      "  - Querying for materials with Pr\n"
     ]
    },
    {
     "name": "stderr",
     "output_type": "stream",
     "text": [
      "Retrieving SummaryDoc documents: 100%|██████████| 10/10 [00:00<00:00, 208671.84it/s]\n"
     ]
    },
    {
     "name": "stdout",
     "output_type": "stream",
     "text": [
      "    Found 10 materials\n",
      "Querying elements: Re, Ni, Np, Nd, Yb, Ce\n",
      "  - Querying for materials with Re\n"
     ]
    },
    {
     "name": "stderr",
     "output_type": "stream",
     "text": [
      "Retrieving SummaryDoc documents: 100%|██████████| 5/5 [00:00<00:00, 82241.25it/s]\n"
     ]
    },
    {
     "name": "stdout",
     "output_type": "stream",
     "text": [
      "    Found 5 materials\n",
      "  - Querying for materials with Ni\n"
     ]
    },
    {
     "name": "stderr",
     "output_type": "stream",
     "text": [
      "Retrieving SummaryDoc documents: 100%|██████████| 6/6 [00:00<00:00, 149796.57it/s]\n"
     ]
    },
    {
     "name": "stdout",
     "output_type": "stream",
     "text": [
      "    Found 6 materials\n",
      "  - Querying for materials with Np\n"
     ]
    },
    {
     "name": "stderr",
     "output_type": "stream",
     "text": [
      "Retrieving SummaryDoc documents: 100%|██████████| 3/3 [00:00<00:00, 74898.29it/s]\n"
     ]
    },
    {
     "name": "stdout",
     "output_type": "stream",
     "text": [
      "    Found 3 materials\n",
      "  - Querying for materials with Nd\n"
     ]
    },
    {
     "name": "stderr",
     "output_type": "stream",
     "text": [
      "Retrieving SummaryDoc documents: 100%|██████████| 4/4 [00:00<00:00, 97541.95it/s]\n"
     ]
    },
    {
     "name": "stdout",
     "output_type": "stream",
     "text": [
      "    Found 4 materials\n",
      "  - Querying for materials with Yb\n"
     ]
    },
    {
     "name": "stderr",
     "output_type": "stream",
     "text": [
      "Retrieving SummaryDoc documents: 100%|██████████| 4/4 [00:00<00:00, 101680.10it/s]\n"
     ]
    },
    {
     "name": "stdout",
     "output_type": "stream",
     "text": [
      "    Found 4 materials\n",
      "  - Querying for materials with Ce\n"
     ]
    },
    {
     "name": "stderr",
     "output_type": "stream",
     "text": [
      "Retrieving SummaryDoc documents: 100%|██████████| 6/6 [00:00<00:00, 108942.96it/s]\n"
     ]
    },
    {
     "name": "stdout",
     "output_type": "stream",
     "text": [
      "    Found 6 materials\n",
      "Querying elements: Ti, Mo, Cu, Fe, Sm, Gd\n",
      "  - Querying for materials with Ti\n"
     ]
    },
    {
     "name": "stderr",
     "output_type": "stream",
     "text": [
      "Retrieving SummaryDoc documents: 100%|██████████| 10/10 [00:00<00:00, 313007.76it/s]\n"
     ]
    },
    {
     "name": "stdout",
     "output_type": "stream",
     "text": [
      "    Found 10 materials\n",
      "  - Querying for materials with Mo\n"
     ]
    },
    {
     "name": "stderr",
     "output_type": "stream",
     "text": [
      "Retrieving SummaryDoc documents: 100%|██████████| 8/8 [00:00<00:00, 124737.67it/s]\n"
     ]
    },
    {
     "name": "stdout",
     "output_type": "stream",
     "text": [
      "    Found 8 materials\n",
      "  - Querying for materials with Cu\n"
     ]
    },
    {
     "name": "stderr",
     "output_type": "stream",
     "text": [
      "Retrieving SummaryDoc documents: 100%|██████████| 8/8 [00:00<00:00, 177536.68it/s]\n"
     ]
    },
    {
     "name": "stdout",
     "output_type": "stream",
     "text": [
      "    Found 8 materials\n",
      "  - Querying for materials with Fe\n"
     ]
    },
    {
     "name": "stderr",
     "output_type": "stream",
     "text": [
      "Retrieving SummaryDoc documents: 100%|██████████| 10/10 [00:00<00:00, 212908.83it/s]\n"
     ]
    },
    {
     "name": "stdout",
     "output_type": "stream",
     "text": [
      "    Found 10 materials\n",
      "  - Querying for materials with Sm\n"
     ]
    },
    {
     "name": "stderr",
     "output_type": "stream",
     "text": [
      "Retrieving SummaryDoc documents: 100%|██████████| 4/4 [00:00<00:00, 55553.70it/s]\n"
     ]
    },
    {
     "name": "stdout",
     "output_type": "stream",
     "text": [
      "    Found 4 materials\n",
      "  - Querying for materials with Gd\n"
     ]
    },
    {
     "name": "stderr",
     "output_type": "stream",
     "text": [
      "Retrieving SummaryDoc documents: 100%|██████████| 5/5 [00:00<00:00, 91180.52it/s]\n"
     ]
    },
    {
     "name": "stdout",
     "output_type": "stream",
     "text": [
      "    Found 5 materials\n",
      "Querying elements: V, Co, Eu, Ho, Mn, Os\n",
      "  - Querying for materials with V\n"
     ]
    },
    {
     "name": "stderr",
     "output_type": "stream",
     "text": [
      "Retrieving SummaryDoc documents: 100%|██████████| 3/3 [00:00<00:00, 48582.67it/s]\n"
     ]
    },
    {
     "name": "stdout",
     "output_type": "stream",
     "text": [
      "    Found 3 materials\n",
      "  - Querying for materials with Co\n"
     ]
    },
    {
     "name": "stderr",
     "output_type": "stream",
     "text": [
      "Retrieving SummaryDoc documents: 100%|██████████| 8/8 [00:00<00:00, 159025.74it/s]\n"
     ]
    },
    {
     "name": "stdout",
     "output_type": "stream",
     "text": [
      "    Found 8 materials\n",
      "  - Querying for materials with Eu\n"
     ]
    },
    {
     "name": "stderr",
     "output_type": "stream",
     "text": [
      "Retrieving SummaryDoc documents: 100%|██████████| 6/6 [00:00<00:00, 101885.93it/s]\n"
     ]
    },
    {
     "name": "stdout",
     "output_type": "stream",
     "text": [
      "    Found 6 materials\n",
      "  - Querying for materials with Ho\n"
     ]
    },
    {
     "name": "stderr",
     "output_type": "stream",
     "text": [
      "Retrieving SummaryDoc documents: 100%|██████████| 5/5 [00:00<00:00, 156503.88it/s]\n"
     ]
    },
    {
     "name": "stdout",
     "output_type": "stream",
     "text": [
      "    Found 5 materials\n",
      "  - Querying for materials with Mn\n"
     ]
    },
    {
     "name": "stderr",
     "output_type": "stream",
     "text": [
      "Retrieving SummaryDoc documents: 100%|██████████| 7/7 [00:00<00:00, 158703.39it/s]\n"
     ]
    },
    {
     "name": "stdout",
     "output_type": "stream",
     "text": [
      "    Found 7 materials\n",
      "  - Querying for materials with Os\n"
     ]
    },
    {
     "name": "stderr",
     "output_type": "stream",
     "text": [
      "Retrieving SummaryDoc documents: 100%|██████████| 5/5 [00:00<00:00, 90785.80it/s]\n"
     ]
    },
    {
     "name": "stdout",
     "output_type": "stream",
     "text": [
      "    Found 5 materials\n",
      "Querying elements: Tb, Ir, Pt, Rh, Ru\n",
      "  - Querying for materials with Tb\n"
     ]
    },
    {
     "name": "stderr",
     "output_type": "stream",
     "text": [
      "Retrieving SummaryDoc documents: 100%|██████████| 5/5 [00:00<00:00, 128659.63it/s]\n"
     ]
    },
    {
     "name": "stdout",
     "output_type": "stream",
     "text": [
      "    Found 5 materials\n",
      "  - Querying for materials with Ir\n"
     ]
    },
    {
     "name": "stderr",
     "output_type": "stream",
     "text": [
      "Retrieving SummaryDoc documents: 100%|██████████| 4/4 [00:00<00:00, 93206.76it/s]\n"
     ]
    },
    {
     "name": "stdout",
     "output_type": "stream",
     "text": [
      "    Found 4 materials\n",
      "  - Querying for materials with Pt\n"
     ]
    },
    {
     "name": "stderr",
     "output_type": "stream",
     "text": [
      "Retrieving SummaryDoc documents: 100%|██████████| 3/3 [00:00<00:00, 53773.13it/s]\n"
     ]
    },
    {
     "name": "stdout",
     "output_type": "stream",
     "text": [
      "    Found 3 materials\n",
      "  - Querying for materials with Rh\n"
     ]
    },
    {
     "name": "stderr",
     "output_type": "stream",
     "text": [
      "Retrieving SummaryDoc documents: 100%|██████████| 5/5 [00:00<00:00, 63937.56it/s]\n"
     ]
    },
    {
     "name": "stdout",
     "output_type": "stream",
     "text": [
      "    Found 5 materials\n",
      "  - Querying for materials with Ru\n"
     ]
    },
    {
     "name": "stderr",
     "output_type": "stream",
     "text": [
      "Retrieving SummaryDoc documents: 100%|██████████| 2/2 [00:00<00:00, 37617.08it/s]\n"
     ]
    },
    {
     "name": "stdout",
     "output_type": "stream",
     "text": [
      "    Found 2 materials\n",
      "Total materials retrieved: 211\n",
      "Processed 211 unique materials with structures\n",
      "Materials with known magnetic ordering: 211\n",
      "Magnetic ordering distribution:\n",
      "  NM: 137\n",
      "  FM: 59\n",
      "  FiM: 11\n",
      "  AFM: 4\n"
     ]
    }
   ],
   "source": [
    "import os\n",
    "from dotenv import load_dotenv, find_dotenv\n",
    "from mp_api.client import MPRester\n",
    "import torch\n",
    "import torch.nn as nn\n",
    "import torch.optim as optim\n",
    "import torch_geometric\n",
    "import e3nn\n",
    "from e3nn import o3\n",
    "import e3nn.util.datatypes\n",
    "import numpy as np\n",
    "import pickle\n",
    "from mendeleev import element\n",
    "import matplotlib.pyplot as plt\n",
    "from sklearn.metrics import average_precision_score\n",
    "from sklearn.metrics import classification_report\n",
    "from sklearn.metrics import f1_score\n",
    "from sklearn.metrics import accuracy_score\n",
    "import io\n",
    "import random\n",
    "import math\n",
    "import sys\n",
    "import time, os\n",
    "import datetime\n",
    "from pathlib import Path\n",
    "\n",
    "# Load environment variables\n",
    "load_dotenv()\n",
    "load_dotenv(Path(\"/Users/abiralshakya/Documents/Research/Topological_Insulators_OnGithub/generative_nmti/Integrated_Magnetic_Topological/matprojectapi.env\"))\n",
    "api_key = os.getenv(\"MP_API_KEY\")\n",
    "\n",
    "# Initialize variables for storing data\n",
    "order_list_mp = []\n",
    "structures_list_mp = []\n",
    "formula_list_mp = []\n",
    "sites_list = []\n",
    "id_list_mp = []\n",
    "y_values_mp = []\n",
    "order_encode = {\"NM\": 0, \"AFM\": 1, \"FM\": 2, \"FiM\": 2}\n",
    "\n",
    "# Initialize MPRester client\n",
    "m = MPRester(api_key=api_key)\n",
    "\n",
    "# Define element batches for querying\n",
    "element_batches = [\n",
    "    [\"Ga\", \"Tm\", \"Y\", \"Dy\", \"Nb\", \"Pu\"],\n",
    "    [\"Th\", \"Er\", \"U\", \"Cr\", \"Sc\", \"Pr\"],\n",
    "    [\"Re\", \"Ni\", \"Np\", \"Nd\", \"Yb\", \"Ce\"],\n",
    "    [\"Ti\", \"Mo\", \"Cu\", \"Fe\", \"Sm\", \"Gd\"],\n",
    "    [\"V\", \"Co\", \"Eu\", \"Ho\", \"Mn\", \"Os\"],\n",
    "    [\"Tb\", \"Ir\", \"Pt\", \"Rh\", \"Ru\"]\n",
    "]\n",
    "\n",
    "# Storage for results\n",
    "all_materials = []\n",
    "\n",
    "# Fetch data in batches with proper approach\n",
    "for batch in element_batches:\n",
    "    try:\n",
    "        print(f\"Querying elements: {', '.join(batch)}\")\n",
    "        \n",
    "        # Process each element separately\n",
    "        for element in batch:\n",
    "            print(f\"  - Querying for materials with {element}\")\n",
    "            \n",
    "            # Using the standard query format\n",
    "            docs = m.materials.summary.search(\n",
    "                chemsys=element,  # Use chemsys to search for the element\n",
    "                fields=[\n",
    "                    \"material_id\", \n",
    "                    \"formula_pretty\", \n",
    "                    \"structure\", \n",
    "                    \"nsites\", \n",
    "                    \"is_magnetic\", \n",
    "                    \"ordering\",\n",
    "                    \"total_magnetization\"\n",
    "                ]\n",
    "            )\n",
    "            \n",
    "            # Add results to collection\n",
    "            element_docs = list(docs)\n",
    "            print(f\"    Found {len(element_docs)} materials\")\n",
    "            all_materials.extend(element_docs)\n",
    "            \n",
    "            # Pause briefly to avoid rate limiting\n",
    "            time.sleep(0.5)\n",
    "    \n",
    "    except Exception as e:\n",
    "        print(f\"Error processing batch {batch}: {e}\")\n",
    "\n",
    "print(f\"Total materials retrieved: {len(all_materials)}\")\n",
    "\n",
    "# Process retrieved data\n",
    "for doc in all_materials:\n",
    "    try:\n",
    "        material_id = doc.material_id\n",
    "        formula = doc.formula_pretty\n",
    "        structure = doc.structure\n",
    "        nsites = doc.nsites\n",
    "        \n",
    "        # Extract magnetic ordering - directly from the ordering field\n",
    "        magnetic_ordering = None\n",
    "        if hasattr(doc, 'ordering') and doc.ordering:\n",
    "            magnetic_ordering = doc.ordering\n",
    "        \n",
    "        # Store data in lists\n",
    "        id_list_mp.append(material_id)\n",
    "        formula_list_mp.append(formula)\n",
    "        structures_list_mp.append(structure)\n",
    "        sites_list.append(nsites)\n",
    "        \n",
    "        # Handle magnetic ordering data\n",
    "        if magnetic_ordering and magnetic_ordering in order_encode:\n",
    "            order_list_mp.append(magnetic_ordering)\n",
    "            y_values_mp.append(order_encode[magnetic_ordering])\n",
    "        else:\n",
    "            # If structure not magnetic or ordering unknown\n",
    "            if hasattr(doc, 'is_magnetic') and not doc.is_magnetic:\n",
    "                order_list_mp.append(\"NM\")  # Non-magnetic\n",
    "                y_values_mp.append(order_encode[\"NM\"])\n",
    "            else:\n",
    "                order_list_mp.append(\"Unknown\")\n",
    "                y_values_mp.append(-1)  # Mark as unknown\n",
    "            \n",
    "    except Exception as e:\n",
    "        print(f\"Error processing material {doc.material_id if hasattr(doc, 'material_id') else 'unknown'}: {e}\")\n",
    "\n",
    "# Remove duplicate materials (if any)\n",
    "unique_indices = []\n",
    "seen_ids = set()\n",
    "for i, material_id in enumerate(id_list_mp):\n",
    "    if material_id not in seen_ids:\n",
    "        seen_ids.add(material_id)\n",
    "        unique_indices.append(i)\n",
    "\n",
    "if len(unique_indices) < len(id_list_mp):\n",
    "    print(f\"Removing {len(id_list_mp) - len(unique_indices)} duplicate materials\")\n",
    "    id_list_mp = [id_list_mp[i] for i in unique_indices]\n",
    "    formula_list_mp = [formula_list_mp[i] for i in unique_indices]\n",
    "    structures_list_mp = [structures_list_mp[i] for i in unique_indices]\n",
    "    sites_list = [sites_list[i] for i in unique_indices]\n",
    "    order_list_mp = [order_list_mp[i] for i in unique_indices]\n",
    "    y_values_mp = [y_values_mp[i] for i in unique_indices]\n",
    "\n",
    "print(f\"Processed {len(id_list_mp)} unique materials with structures\")\n",
    "print(f\"Materials with known magnetic ordering: {sum(1 for y in y_values_mp if y >= 0)}\")\n",
    "\n",
    "# Optional: Create a summary of magnetic orders\n",
    "mag_order_counts = {}\n",
    "for order in order_list_mp:\n",
    "    if order in mag_order_counts:\n",
    "        mag_order_counts[order] += 1\n",
    "    else:\n",
    "        mag_order_counts[order] = 1\n",
    "\n",
    "print(\"Magnetic ordering distribution:\")\n",
    "for order, count in mag_order_counts.items():\n",
    "    print(f\"  {order}: {count}\")"
   ]
  },
  {
   "cell_type": "code",
   "execution_count": 13,
   "id": "382fa51d",
   "metadata": {},
   "outputs": [],
   "source": [
    "import torch\n",
    "from datetime import datetime"
   ]
  },
  {
   "cell_type": "code",
   "execution_count": 14,
   "id": "29fe82c7",
   "metadata": {},
   "outputs": [],
   "source": [
    "time_stamp = datetime.today().strftime('%Y-%m-%d_%H-%M')"
   ]
  },
  {
   "cell_type": "code",
   "execution_count": 15,
   "id": "533a6078",
   "metadata": {},
   "outputs": [],
   "source": [
    "struct_dict = {\n",
    "    \"structures\": mag_order_counts\n",
    "}"
   ]
  },
  {
   "cell_type": "code",
   "execution_count": 16,
   "id": "08851e77",
   "metadata": {},
   "outputs": [],
   "source": [
    "torch.save(struct_dict, f'mp_structures_{time_stamp}.pt')"
   ]
  },
  {
   "cell_type": "code",
   "execution_count": 17,
   "id": "588252b6",
   "metadata": {},
   "outputs": [],
   "source": [
    "structures_loaded = torch.load(f'mp_structures_{time_stamp}.pt')"
   ]
  },
  {
   "cell_type": "code",
   "execution_count": null,
   "id": "42476f84",
   "metadata": {},
   "outputs": [],
   "source": []
  }
 ],
 "metadata": {
  "kernelspec": {
   "display_name": "Python 3",
   "language": "python",
   "name": "python3"
  },
  "language_info": {
   "codemirror_mode": {
    "name": "ipython",
    "version": 3
   },
   "file_extension": ".py",
   "mimetype": "text/x-python",
   "name": "python",
   "nbconvert_exporter": "python",
   "pygments_lexer": "ipython3",
   "version": "3.9.12"
  }
 },
 "nbformat": 4,
 "nbformat_minor": 5
}
