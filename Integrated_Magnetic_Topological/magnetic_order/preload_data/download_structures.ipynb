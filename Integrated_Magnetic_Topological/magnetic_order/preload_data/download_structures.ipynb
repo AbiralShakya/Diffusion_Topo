{
 "cells": [
  {
   "cell_type": "code",
   "execution_count": 5,
   "metadata": {},
   "outputs": [
    {
     "name": "stderr",
     "output_type": "stream",
     "text": [
      "/Library/Frameworks/Python.framework/Versions/3.12/lib/python3.12/site-packages/tqdm/auto.py:21: TqdmWarning: IProgress not found. Please update jupyter and ipywidgets. See https://ipywidgets.readthedocs.io/en/stable/user_install.html\n",
      "  from .autonotebook import tqdm as notebook_tqdm\n",
      "/Library/Frameworks/Python.framework/Versions/3.12/lib/python3.12/site-packages/torch_geometric/typing.py:86: UserWarning: An issue occurred while importing 'torch-scatter'. Disabling its usage. Stacktrace: dlopen(/Library/Frameworks/Python.framework/Versions/3.12/lib/python3.12/site-packages/torch_scatter/_scatter_cpu.so, 0x0006): Symbol not found: __ZN2at4_ops16div__Tensor_mode4callERNS_6TensorERKS2_NSt3__18optionalIN3c1017basic_string_viewIcEEEE\n",
      "  Referenced from: <4A3195B8-9E71-3AE7-AE80-DBA66ADAC535> /Library/Frameworks/Python.framework/Versions/3.12/lib/python3.12/site-packages/torch_scatter/_scatter_cpu.so\n",
      "  Expected in:     <DA215AD3-6EAE-3755-B6A5-A8EB4EF952B0> /Library/Frameworks/Python.framework/Versions/3.12/lib/python3.12/site-packages/torch/lib/libtorch_cpu.dylib\n",
      "  warnings.warn(f\"An issue occurred while importing 'torch-scatter'. \"\n"
     ]
    },
    {
     "name": "stdout",
     "output_type": "stream",
     "text": [
      "Querying elements: Ga, Tm, Y, Dy, Nb, Pu\n",
      "  - Querying for materials with Ga\n"
     ]
    },
    {
     "name": "stderr",
     "output_type": "stream",
     "text": [
      "Retrieving SummaryDoc documents: 100%|██████████| 8/8 [00:00<00:00, 76959.71it/s]\n"
     ]
    },
    {
     "name": "stdout",
     "output_type": "stream",
     "text": [
      "    Found 8 materials\n",
      "  - Querying for materials with Tm\n"
     ]
    },
    {
     "name": "stderr",
     "output_type": "stream",
     "text": [
      "Retrieving SummaryDoc documents: 100%|██████████| 5/5 [00:00<00:00, 92385.55it/s]\n"
     ]
    },
    {
     "name": "stdout",
     "output_type": "stream",
     "text": [
      "    Found 5 materials\n",
      "  - Querying for materials with Y\n"
     ]
    },
    {
     "name": "stderr",
     "output_type": "stream",
     "text": [
      "Retrieving SummaryDoc documents: 100%|██████████| 4/4 [00:00<00:00, 76959.71it/s]\n"
     ]
    },
    {
     "name": "stdout",
     "output_type": "stream",
     "text": [
      "    Found 4 materials\n",
      "  - Querying for materials with Dy\n"
     ]
    },
    {
     "name": "stderr",
     "output_type": "stream",
     "text": [
      "Retrieving SummaryDoc documents: 100%|██████████| 5/5 [00:00<00:00, 97997.76it/s]\n"
     ]
    },
    {
     "name": "stdout",
     "output_type": "stream",
     "text": [
      "    Found 5 materials\n",
      "  - Querying for materials with Nb\n"
     ]
    },
    {
     "name": "stderr",
     "output_type": "stream",
     "text": [
      "Retrieving SummaryDoc documents: 100%|██████████| 6/6 [00:00<00:00, 165564.63it/s]\n"
     ]
    },
    {
     "name": "stdout",
     "output_type": "stream",
     "text": [
      "    Found 6 materials\n",
      "  - Querying for materials with Pu\n"
     ]
    },
    {
     "name": "stderr",
     "output_type": "stream",
     "text": [
      "Retrieving SummaryDoc documents: 100%|██████████| 9/9 [00:00<00:00, 199728.76it/s]\n"
     ]
    },
    {
     "name": "stdout",
     "output_type": "stream",
     "text": [
      "    Found 9 materials\n",
      "Querying elements: Th, Er, U, Cr, Sc, Pr\n",
      "  - Querying for materials with Th\n"
     ]
    },
    {
     "name": "stderr",
     "output_type": "stream",
     "text": [
      "Retrieving SummaryDoc documents: 100%|██████████| 2/2 [00:00<00:00, 37786.52it/s]\n"
     ]
    },
    {
     "name": "stdout",
     "output_type": "stream",
     "text": [
      "    Found 2 materials\n",
      "  - Querying for materials with Er\n"
     ]
    },
    {
     "name": "stderr",
     "output_type": "stream",
     "text": [
      "Retrieving SummaryDoc documents: 100%|██████████| 5/5 [00:00<00:00, 115864.75it/s]\n"
     ]
    },
    {
     "name": "stdout",
     "output_type": "stream",
     "text": [
      "    Found 5 materials\n",
      "  - Querying for materials with U\n"
     ]
    },
    {
     "name": "stderr",
     "output_type": "stream",
     "text": [
      "Retrieving SummaryDoc documents: 100%|██████████| 14/14 [00:00<00:00, 378840.36it/s]\n"
     ]
    },
    {
     "name": "stdout",
     "output_type": "stream",
     "text": [
      "    Found 14 materials\n",
      "  - Querying for materials with Cr\n"
     ]
    },
    {
     "name": "stderr",
     "output_type": "stream",
     "text": [
      "Retrieving SummaryDoc documents: 100%|██████████| 6/6 [00:00<00:00, 146312.93it/s]\n"
     ]
    },
    {
     "name": "stdout",
     "output_type": "stream",
     "text": [
      "    Found 6 materials\n",
      "  - Querying for materials with Sc\n"
     ]
    },
    {
     "name": "stderr",
     "output_type": "stream",
     "text": [
      "Retrieving SummaryDoc documents: 100%|██████████| 11/11 [00:00<00:00, 225060.21it/s]\n"
     ]
    },
    {
     "name": "stdout",
     "output_type": "stream",
     "text": [
      "    Found 11 materials\n",
      "  - Querying for materials with Pr\n"
     ]
    },
    {
     "name": "stderr",
     "output_type": "stream",
     "text": [
      "Retrieving SummaryDoc documents: 100%|██████████| 10/10 [00:00<00:00, 135300.13it/s]\n"
     ]
    },
    {
     "name": "stdout",
     "output_type": "stream",
     "text": [
      "    Found 10 materials\n",
      "Querying elements: Re, Ni, Np, Nd, Yb, Ce\n",
      "  - Querying for materials with Re\n"
     ]
    },
    {
     "name": "stderr",
     "output_type": "stream",
     "text": [
      "Retrieving SummaryDoc documents: 100%|██████████| 5/5 [00:00<00:00, 90785.80it/s]\n"
     ]
    },
    {
     "name": "stdout",
     "output_type": "stream",
     "text": [
      "    Found 5 materials\n",
      "  - Querying for materials with Ni\n"
     ]
    },
    {
     "name": "stderr",
     "output_type": "stream",
     "text": [
      "Retrieving SummaryDoc documents: 100%|██████████| 6/6 [00:00<00:00, 102300.10it/s]\n"
     ]
    },
    {
     "name": "stdout",
     "output_type": "stream",
     "text": [
      "    Found 6 materials\n",
      "  - Querying for materials with Np\n"
     ]
    },
    {
     "name": "stderr",
     "output_type": "stream",
     "text": [
      "Retrieving SummaryDoc documents: 100%|██████████| 3/3 [00:00<00:00, 58798.65it/s]\n"
     ]
    },
    {
     "name": "stdout",
     "output_type": "stream",
     "text": [
      "    Found 3 materials\n",
      "  - Querying for materials with Nd\n"
     ]
    },
    {
     "name": "stderr",
     "output_type": "stream",
     "text": [
      "Retrieving SummaryDoc documents: 100%|██████████| 4/4 [00:00<00:00, 95325.09it/s]\n"
     ]
    },
    {
     "name": "stdout",
     "output_type": "stream",
     "text": [
      "    Found 4 materials\n",
      "  - Querying for materials with Yb\n"
     ]
    },
    {
     "name": "stderr",
     "output_type": "stream",
     "text": [
      "Retrieving SummaryDoc documents: 100%|██████████| 4/4 [00:00<00:00, 81442.80it/s]\n"
     ]
    },
    {
     "name": "stdout",
     "output_type": "stream",
     "text": [
      "    Found 4 materials\n",
      "  - Querying for materials with Ce\n"
     ]
    },
    {
     "name": "stderr",
     "output_type": "stream",
     "text": [
      "Retrieving SummaryDoc documents: 100%|██████████| 6/6 [00:00<00:00, 103563.06it/s]\n"
     ]
    },
    {
     "name": "stdout",
     "output_type": "stream",
     "text": [
      "    Found 6 materials\n",
      "Querying elements: Ti, Mo, Cu, Fe, Sm, Gd\n",
      "  - Querying for materials with Ti\n"
     ]
    },
    {
     "name": "stderr",
     "output_type": "stream",
     "text": [
      "Retrieving SummaryDoc documents: 100%|██████████| 10/10 [00:00<00:00, 255750.24it/s]\n"
     ]
    },
    {
     "name": "stdout",
     "output_type": "stream",
     "text": [
      "    Found 10 materials\n",
      "  - Querying for materials with Mo\n"
     ]
    },
    {
     "name": "stderr",
     "output_type": "stream",
     "text": [
      "Retrieving SummaryDoc documents: 100%|██████████| 8/8 [00:00<00:00, 177536.68it/s]\n"
     ]
    },
    {
     "name": "stdout",
     "output_type": "stream",
     "text": [
      "    Found 8 materials\n",
      "  - Querying for materials with Cu\n"
     ]
    },
    {
     "name": "stderr",
     "output_type": "stream",
     "text": [
      "Retrieving SummaryDoc documents: 100%|██████████| 8/8 [00:00<00:00, 148470.94it/s]\n"
     ]
    },
    {
     "name": "stdout",
     "output_type": "stream",
     "text": [
      "    Found 8 materials\n",
      "  - Querying for materials with Fe\n"
     ]
    },
    {
     "name": "stderr",
     "output_type": "stream",
     "text": [
      "Retrieving SummaryDoc documents: 100%|██████████| 10/10 [00:00<00:00, 181571.60it/s]\n"
     ]
    },
    {
     "name": "stdout",
     "output_type": "stream",
     "text": [
      "    Found 10 materials\n",
      "  - Querying for materials with Sm\n"
     ]
    },
    {
     "name": "stderr",
     "output_type": "stream",
     "text": [
      "Retrieving SummaryDoc documents: 100%|██████████| 4/4 [00:00<00:00, 75573.05it/s]\n"
     ]
    },
    {
     "name": "stdout",
     "output_type": "stream",
     "text": [
      "    Found 4 materials\n",
      "  - Querying for materials with Gd\n"
     ]
    },
    {
     "name": "stderr",
     "output_type": "stream",
     "text": [
      "Retrieving SummaryDoc documents: 100%|██████████| 5/5 [00:00<00:00, 113359.57it/s]\n"
     ]
    },
    {
     "name": "stdout",
     "output_type": "stream",
     "text": [
      "    Found 5 materials\n",
      "Querying elements: V, Co, Eu, Ho, Mn, Os\n",
      "  - Querying for materials with V\n"
     ]
    },
    {
     "name": "stderr",
     "output_type": "stream",
     "text": [
      "Retrieving SummaryDoc documents: 100%|██████████| 3/3 [00:00<00:00, 66576.25it/s]\n"
     ]
    },
    {
     "name": "stdout",
     "output_type": "stream",
     "text": [
      "    Found 3 materials\n",
      "  - Querying for materials with Co\n"
     ]
    },
    {
     "name": "stderr",
     "output_type": "stream",
     "text": [
      "Retrieving SummaryDoc documents: 100%|██████████| 8/8 [00:00<00:00, 151146.09it/s]\n"
     ]
    },
    {
     "name": "stdout",
     "output_type": "stream",
     "text": [
      "    Found 8 materials\n",
      "  - Querying for materials with Eu\n"
     ]
    }
   ],
   "source": [
    "import os\n",
    "from dotenv import load_dotenv, find_dotenv\n",
    "from mp_api.client import MPRester\n",
    "import torch\n",
    "import torch.nn as nn\n",
    "import torch.optim as optim\n",
    "import torch_geometric\n",
    "import e3nn\n",
    "from e3nn import o3\n",
    "import e3nn.util.datatypes\n",
    "import numpy as np\n",
    "import pickle\n",
    "from mendeleev import element\n",
    "import matplotlib.pyplot as plt\n",
    "from sklearn.metrics import average_precision_score\n",
    "from sklearn.metrics import classification_report\n",
    "from sklearn.metrics import f1_score\n",
    "from sklearn.metrics import accuracy_score\n",
    "import io\n",
    "import random\n",
    "import math\n",
    "import sys\n",
    "import time, os\n",
    "import datetime\n",
    "from pathlib import Path\n",
    "\n",
    "# Load environment variables\n",
    "load_dotenv()\n",
    "load_dotenv(Path(\"/Users/abiralshakya/Documents/Research/Topological_Insulators_OnGithub/generative_nmti/Integrated_Magnetic_Topological/matprojectapi.env\"))\n",
    "api_key = os.getenv(\"MP_API_KEY\")\n",
    "\n",
    "# Initialize variables for storing data\n",
    "order_list_mp = []\n",
    "structures_list_mp = []\n",
    "formula_list_mp = []\n",
    "sites_list = []\n",
    "id_list_mp = []\n",
    "y_values_mp = []\n",
    "order_encode = {\"NM\": 0, \"AFM\": 1, \"FM\": 2, \"FiM\": 2}\n",
    "\n",
    "# Initialize MPRester client\n",
    "m = MPRester(api_key=api_key)\n",
    "\n",
    "# Define element batches for querying\n",
    "element_batches = [\n",
    "    [\"Ga\", \"Tm\", \"Y\", \"Dy\", \"Nb\", \"Pu\"],\n",
    "    [\"Th\", \"Er\", \"U\", \"Cr\", \"Sc\", \"Pr\"],\n",
    "    [\"Re\", \"Ni\", \"Np\", \"Nd\", \"Yb\", \"Ce\"],\n",
    "    [\"Ti\", \"Mo\", \"Cu\", \"Fe\", \"Sm\", \"Gd\"],\n",
    "    [\"V\", \"Co\", \"Eu\", \"Ho\", \"Mn\", \"Os\"],\n",
    "    [\"Tb\", \"Ir\", \"Pt\", \"Rh\", \"Ru\"]\n",
    "]\n",
    "\n",
    "# Storage for results\n",
    "all_materials = []\n",
    "\n",
    "# Fetch data in batches with proper approach\n",
    "for batch in element_batches:\n",
    "    try:\n",
    "        print(f\"Querying elements: {', '.join(batch)}\")\n",
    "        \n",
    "        # Process each element separately\n",
    "        for element in batch:\n",
    "            print(f\"  - Querying for materials with {element}\")\n",
    "            \n",
    "            # Using the standard query format\n",
    "            docs = m.materials.summary.search(\n",
    "                chemsys=element,  # Use chemsys to search for the element\n",
    "                fields=[\n",
    "                    \"material_id\", \n",
    "                    \"formula_pretty\", \n",
    "                    \"structure\", \n",
    "                    \"nsites\", \n",
    "                    \"is_magnetic\", \n",
    "                    \"ordering\",\n",
    "                    \"total_magnetization\"\n",
    "                ]\n",
    "            )\n",
    "            \n",
    "            # Add results to collection\n",
    "            element_docs = list(docs)\n",
    "            print(f\"    Found {len(element_docs)} materials\")\n",
    "            all_materials.extend(element_docs)\n",
    "            \n",
    "            # Pause briefly to avoid rate limiting\n",
    "            time.sleep(0.5)\n",
    "    \n",
    "    except Exception as e:\n",
    "        print(f\"Error processing batch {batch}: {e}\")\n",
    "\n",
    "print(f\"Total materials retrieved: {len(all_materials)}\")\n",
    "\n",
    "# Process retrieved data\n",
    "for doc in all_materials:\n",
    "    try:\n",
    "        material_id = doc.material_id\n",
    "        formula = doc.formula_pretty\n",
    "        structure = doc.structure\n",
    "        nsites = doc.nsites\n",
    "        \n",
    "        # Extract magnetic ordering - directly from the ordering field\n",
    "        magnetic_ordering = None\n",
    "        if hasattr(doc, 'ordering') and doc.ordering:\n",
    "            magnetic_ordering = doc.ordering\n",
    "        \n",
    "        # Store data in lists\n",
    "        id_list_mp.append(material_id)\n",
    "        formula_list_mp.append(formula)\n",
    "        structures_list_mp.append(structure)\n",
    "        sites_list.append(nsites)\n",
    "        \n",
    "        # Handle magnetic ordering data\n",
    "        if magnetic_ordering and magnetic_ordering in order_encode:\n",
    "            order_list_mp.append(magnetic_ordering)\n",
    "            y_values_mp.append(order_encode[magnetic_ordering])\n",
    "        else:\n",
    "            # If structure not magnetic or ordering unknown\n",
    "            if hasattr(doc, 'is_magnetic') and not doc.is_magnetic:\n",
    "                order_list_mp.append(\"NM\")  # Non-magnetic\n",
    "                y_values_mp.append(order_encode[\"NM\"])\n",
    "            else:\n",
    "                order_list_mp.append(\"Unknown\")\n",
    "                y_values_mp.append(-1)  # Mark as unknown\n",
    "            \n",
    "    except Exception as e:\n",
    "        print(f\"Error processing material {doc.material_id if hasattr(doc, 'material_id') else 'unknown'}: {e}\")\n",
    "\n",
    "# Remove duplicate materials (if any)\n",
    "unique_indices = []\n",
    "seen_ids = set()\n",
    "for i, material_id in enumerate(id_list_mp):\n",
    "    if material_id not in seen_ids:\n",
    "        seen_ids.add(material_id)\n",
    "        unique_indices.append(i)\n",
    "\n",
    "if len(unique_indices) < len(id_list_mp):\n",
    "    print(f\"Removing {len(id_list_mp) - len(unique_indices)} duplicate materials\")\n",
    "    id_list_mp = [id_list_mp[i] for i in unique_indices]\n",
    "    formula_list_mp = [formula_list_mp[i] for i in unique_indices]\n",
    "    structures_list_mp = [structures_list_mp[i] for i in unique_indices]\n",
    "    sites_list = [sites_list[i] for i in unique_indices]\n",
    "    order_list_mp = [order_list_mp[i] for i in unique_indices]\n",
    "    y_values_mp = [y_values_mp[i] for i in unique_indices]\n",
    "\n",
    "print(f\"Processed {len(id_list_mp)} unique materials with structures\")\n",
    "print(f\"Materials with known magnetic ordering: {sum(1 for y in y_values_mp if y >= 0)}\")\n",
    "\n",
    "# Optional: Create a summary of magnetic orders\n",
    "mag_order_counts = {}\n",
    "for order in order_list_mp:\n",
    "    if order in mag_order_counts:\n",
    "        mag_order_counts[order] += 1\n",
    "    else:\n",
    "        mag_order_counts[order] = 1\n",
    "\n",
    "print(\"Magnetic ordering distribution:\")\n",
    "for order, count in mag_order_counts.items():\n",
    "    print(f\"  {order}: {count}\")"
   ]
  },
  {
   "cell_type": "code",
   "execution_count": 1,
   "metadata": {},
   "outputs": [],
   "source": [
    "import torch\n",
    "from datetime import datetime"
   ]
  },
  {
   "cell_type": "code",
   "execution_count": 2,
   "metadata": {},
   "outputs": [],
   "source": [
    "time_stamp = datetime.today().strftime('%Y-%m-%d_%H-%M')\n"
   ]
  },
  {
   "cell_type": "code",
   "execution_count": 3,
   "metadata": {},
   "outputs": [
    {
     "ename": "NameError",
     "evalue": "name 'structures' is not defined",
     "output_type": "error",
     "traceback": [
      "\u001b[0;31m---------------------------------------------------------------------------\u001b[0m",
      "\u001b[0;31mNameError\u001b[0m                                 Traceback (most recent call last)",
      "Cell \u001b[0;32mIn[3], line 2\u001b[0m\n\u001b[1;32m      1\u001b[0m struct_dict \u001b[38;5;241m=\u001b[39m {\n\u001b[0;32m----> 2\u001b[0m     \u001b[38;5;124m\"\u001b[39m\u001b[38;5;124mstructures\u001b[39m\u001b[38;5;124m\"\u001b[39m: \u001b[43mstructures\u001b[49m\n\u001b[1;32m      3\u001b[0m }\n",
      "\u001b[0;31mNameError\u001b[0m: name 'structures' is not defined"
     ]
    }
   ],
   "source": [
    "struct_dict = {\n",
    "    \"structures\": structures\n",
    "}"
   ]
  },
  {
   "cell_type": "code",
   "execution_count": 4,
   "metadata": {},
   "outputs": [
    {
     "ename": "NameError",
     "evalue": "name 'struct_dict' is not defined",
     "output_type": "error",
     "traceback": [
      "\u001b[0;31m---------------------------------------------------------------------------\u001b[0m",
      "\u001b[0;31mNameError\u001b[0m                                 Traceback (most recent call last)",
      "Cell \u001b[0;32mIn[4], line 1\u001b[0m\n\u001b[0;32m----> 1\u001b[0m torch\u001b[38;5;241m.\u001b[39msave(\u001b[43mstruct_dict\u001b[49m, \u001b[38;5;124mf\u001b[39m\u001b[38;5;124m'\u001b[39m\u001b[38;5;124mmp_structures_\u001b[39m\u001b[38;5;132;01m{\u001b[39;00mtime_stamp\u001b[38;5;132;01m}\u001b[39;00m\u001b[38;5;124m.pt\u001b[39m\u001b[38;5;124m'\u001b[39m)\n",
      "\u001b[0;31mNameError\u001b[0m: name 'struct_dict' is not defined"
     ]
    }
   ],
   "source": [
    "torch.save(struct_dict, f'mp_structures_{time_stamp}.pt')\n"
   ]
  },
  {
   "cell_type": "code",
   "execution_count": null,
   "metadata": {},
   "outputs": [],
   "source": [
    "structures_loaded = torch.load(f'mp_structures_{time_stamp}.pt')\n"
   ]
  }
 ],
 "metadata": {
  "kernelspec": {
   "display_name": "Python 3",
   "language": "python",
   "name": "python3"
  },
  "language_info": {
   "codemirror_mode": {
    "name": "ipython",
    "version": 3
   },
   "file_extension": ".py",
   "mimetype": "text/x-python",
   "name": "python",
   "nbconvert_exporter": "python",
   "pygments_lexer": "ipython3",
   "version": "3.12.4"
  }
 },
 "nbformat": 4,
 "nbformat_minor": 2
}
