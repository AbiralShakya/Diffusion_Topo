{
 "cells": [
  {
   "cell_type": "code",
   "execution_count": 31,
   "metadata": {},
   "outputs": [
    {
     "name": "stderr",
     "output_type": "stream",
     "text": [
      "Retrieving SummaryDoc documents: 0it [00:00, ?it/s]\n",
      "Retrieving SummaryDoc documents: 0it [00:00, ?it/s]\n",
      "Retrieving SummaryDoc documents: 0it [00:00, ?it/s]\n",
      "Retrieving SummaryDoc documents: 0it [00:00, ?it/s]\n",
      "Retrieving SummaryDoc documents: 0it [00:00, ?it/s]\n",
      "Retrieving SummaryDoc documents: 0it [00:00, ?it/s]\n"
     ]
    }
   ],
   "source": [
    "import os\n",
    "from dotenv import load_dotenv, find_dotenv\n",
    "\n",
    "from mp_api.client import MPRester\n",
    "import torch\n",
    "import torch.nn as nn\n",
    "import torch.optim as optim\n",
    "import torch_geometric\n",
    "\n",
    "import e3nn\n",
    "from e3nn import o3\n",
    "import e3nn.util.datatypes\n",
    "\n",
    "\n",
    "import numpy as np\n",
    "import pickle\n",
    "from mendeleev import element\n",
    "import matplotlib.pyplot as plt\n",
    "\n",
    "from sklearn.metrics import average_precision_score\n",
    "from sklearn.metrics import classification_report\n",
    "from sklearn.metrics import f1_score\n",
    "from sklearn.metrics import accuracy_score\n",
    "\n",
    "import io\n",
    "import random\n",
    "import math\n",
    "import sys \n",
    "import time, os\n",
    "import datetime\n",
    "from pathlib import Path\n",
    "\n",
    "load_dotenv()\n",
    "load_dotenv(Path(\"/Users/abiralshakya/Documents/Research/Topological_Insulators_OnGithub/generative_nmti/Integrated_Magnetic_Topological/matprojectapi.env\"))\n",
    "api_key = os.getenv(\"MP_API_KEY\")\n",
    "\n",
    "order_list_mp =  []\n",
    "structures_list_mp = []\n",
    "formula_list_mp = []\n",
    "sites_list = []\n",
    "id_list_mp = []\n",
    "y_values_mp = []\n",
    "order_encode = {\"NM\": 0, \"AFM\": 1, \"FM\": 2, \"FiM\": 2}\n",
    "\n",
    "\n",
    "m = MPRester(api_key= api_key, endpoint=None, include_user_agent=True) \n",
    "\n",
    "structures = []\n",
    "element_batches = [\n",
    "    [\"Ga\", \"Tm\", \"Y\", \"Dy\", \"Nb\", \"Pu\"],\n",
    "    [\"Th\", \"Er\", \"U\", \"Cr\", \"Sc\", \"Pr\"],\n",
    "    [\"Re\", \"Ni\", \"Np\", \"Nd\", \"Yb\", \"Ce\"],\n",
    "    [\"Ti\", \"Mo\", \"Cu\", \"Fe\", \"Sm\", \"Gd\"],\n",
    "    [\"V\", \"Co\", \"Eu\", \"Ho\", \"Mn\", \"Os\"],\n",
    "    [\"Tb\", \"Ir\", \"Pt\", \"Rh\", \"Ru\"]\n",
    "]\n",
    "\n",
    "# Storage for results\n",
    "structures = []\n",
    "\n",
    "# Fetch data in batches\n",
    "for batch in element_batches:\n",
    "    try:\n",
    "        batch_results = m.materials.summary.search(\n",
    "            elements=batch,\n",
    "            fields=[\"material_id\", \"formula_pretty\", \"structure\", \"nsites\"]\n",
    "        )\n",
    "        structures.extend(batch_results)  # Append batch results\n",
    "    except Exception as e:\n",
    "        print(f\"Error querying batch {batch}: {e}\")\n"
   ]
  },
  {
   "cell_type": "code",
   "execution_count": 23,
   "metadata": {},
   "outputs": [],
   "source": [
    "import torch\n",
    "from datetime import datetime"
   ]
  },
  {
   "cell_type": "code",
   "execution_count": 24,
   "metadata": {},
   "outputs": [],
   "source": [
    "time_stamp = datetime.today().strftime('%Y-%m-%d_%H-%M')"
   ]
  },
  {
   "cell_type": "code",
   "execution_count": 25,
   "metadata": {},
   "outputs": [],
   "source": [
    "struct_dict = {\n",
    "    \"structures\": structures\n",
    "}"
   ]
  },
  {
   "cell_type": "code",
   "execution_count": 26,
   "metadata": {},
   "outputs": [],
   "source": [
    "torch.save(struct_dict, f'mp_structures_{time_stamp}.pt')"
   ]
  },
  {
   "cell_type": "code",
   "execution_count": 27,
   "metadata": {},
   "outputs": [],
   "source": [
    "structures_loaded = torch.load(f'mp_structures_{time_stamp}.pt')"
   ]
  },
  {
   "cell_type": "code",
   "execution_count": 28,
   "metadata": {},
   "outputs": [
    {
     "name": "stdout",
     "output_type": "stream",
     "text": [
      "{'structures': []}\n"
     ]
    }
   ],
   "source": [
    "print(structures_loaded)"
   ]
  },
  {
   "cell_type": "code",
   "execution_count": null,
   "metadata": {},
   "outputs": [],
   "source": []
  }
 ],
 "metadata": {
  "kernelspec": {
   "display_name": "Python 3",
   "language": "python",
   "name": "python3"
  },
  "language_info": {
   "codemirror_mode": {
    "name": "ipython",
    "version": 3
   },
   "file_extension": ".py",
   "mimetype": "text/x-python",
   "name": "python",
   "nbconvert_exporter": "python",
   "pygments_lexer": "ipython3",
   "version": "3.12.4"
  }
 },
 "nbformat": 4,
 "nbformat_minor": 2
}
